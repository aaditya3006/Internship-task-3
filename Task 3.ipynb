{
 "cells": [
  {
   "cell_type": "markdown",
   "id": "92101c7f-76ec-4f3f-beb4-384f26c360af",
   "metadata": {},
   "source": [
    "# Task 3 ( rock paper scissor ) Game "
   ]
  },
  {
   "cell_type": "code",
   "execution_count": null,
   "id": "62c985c8-60ff-456c-a072-ade86094c8b1",
   "metadata": {},
   "outputs": [],
   "source": [
    "import tkinter as tk\n",
    "from tkinter import messagebox\n",
    "import random\n",
    "\n",
    "def computer_selection():\n",
    "    choices = [\"rock\", \"paper\", \"scissor\"]\n",
    "    return random.choice(choices)\n",
    "\n",
    "def determine_winner(user_choice, computer_choice):\n",
    "    if user_choice == computer_choice:\n",
    "        return \"It's a tie!\"\n",
    "    elif (user_choice == \"rock\" and computer_choice == \"scissor\") or \\\n",
    "         (user_choice == \"paper\" and computer_choice == \"rock\") or \\\n",
    "         (user_choice == \"scissor\" and computer_choice == \"paper\"):\n",
    "        return \"You Win!\"\n",
    "    else:\n",
    "        return \"You Lose!\"\n",
    "\n",
    "def play_game(user_choice):\n",
    "    computer_choice = computer_selection()\n",
    "    result = determine_winner(user_choice, computer_choice)\n",
    "    result_label.config(text=f\"Computer chose: {computer_choice}\\n{result}\")\n",
    "\n",
    "    if \"Win\" in result:\n",
    "        global user_score\n",
    "        user_score += 1\n",
    "    elif \"Lose\" in result:\n",
    "        global computer_score\n",
    "        computer_score += 1\n",
    "\n",
    "    score_label.config(text=f\"Score: You {user_score} - Computer {computer_score}\")\n",
    "\n",
    "def reset_game():\n",
    "    global user_score, computer_score\n",
    "    user_score = 0\n",
    "    computer_score = 0\n",
    "    score_label.config(text=\"Score: You 0 - Computer 0\")\n",
    "    result_label.config(text=\"\")\n",
    "\n",
    "user_score = 0\n",
    "computer_score = 0\n",
    "\n",
    "root = tk.Tk()\n",
    "root.title(\"Rock-Paper-Scissors Game\")\n",
    "\n",
    "instruction_label = tk.Label(root, text=\"Choose rock, paper, or scissor:\")\n",
    "instruction_label.pack()\n",
    "\n",
    "rock_button = tk.Button(root, text=\"Rock\", command=lambda: play_game(\"rock\"))\n",
    "rock_button.pack()\n",
    "\n",
    "paper_button = tk.Button(root, text=\"Paper\", command=lambda: play_game(\"paper\"))\n",
    "paper_button.pack()\n",
    "\n",
    "scissor_button = tk.Button(root, text=\"Scissor\", command=lambda: play_game(\"scissor\"))\n",
    "scissor_button.pack()\n",
    "\n",
    "result_label = tk.Label(root, text=\"\")\n",
    "result_label.pack()\n",
    "\n",
    "score_label = tk.Label(root, text=\"Score: You 0 - Computer 0\")\n",
    "score_label.pack()\n",
    "\n",
    "reset_button = tk.Button(root, text=\"Reset Game\", command=reset_game)\n",
    "reset_button.pack()\n",
    "\n",
    "root.mainloop()"
   ]
  }
 ],
 "metadata": {
  "kernelspec": {
   "display_name": "Python 3 (ipykernel)",
   "language": "python",
   "name": "python3"
  },
  "language_info": {
   "codemirror_mode": {
    "name": "ipython",
    "version": 3
   },
   "file_extension": ".py",
   "mimetype": "text/x-python",
   "name": "python",
   "nbconvert_exporter": "python",
   "pygments_lexer": "ipython3",
   "version": "3.11.7"
  }
 },
 "nbformat": 4,
 "nbformat_minor": 5
}
